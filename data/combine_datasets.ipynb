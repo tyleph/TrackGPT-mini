{
 "cells": [
  {
   "cell_type": "code",
   "execution_count": null,
   "metadata": {},
   "outputs": [],
   "source": [
    "import os\n",
    "import pandas as pd"
   ]
  },
  {
   "cell_type": "code",
   "execution_count": null,
   "metadata": {},
   "outputs": [
    {
     "name": "stdout",
     "output_type": "stream",
     "text": [
      "    timestamp_datetime          # Timestamp      MMSI        lat        lon  \\\n",
      "0  2025-07-31 04:01:00  31/07/2025 04:01:52  97000090  57.668378  10.278383   \n",
      "1  2025-07-31 04:11:00  31/07/2025 04:11:26  97000090  57.672278  10.304460   \n",
      "2  2025-07-31 04:21:00  31/07/2025 04:21:49  97000090  57.672417  10.303922   \n",
      "3  2025-07-31 04:31:00  31/07/2025 04:31:21  97000090  57.672410  10.304002   \n",
      "4  2025-07-31 04:41:00                  NaN  97000090  57.672278  10.304616   \n",
      "\n",
      "  geohash  sub_track        time_diff geohash_trimmed  source  \n",
      "0   u4r21         10              NaN            4r21      31  \n",
      "1   u4r24         10  0 days 00:10:00            4r24      31  \n",
      "2   u4r24         10  0 days 00:10:00            4r24      31  \n",
      "3   u4r24         10  0 days 00:10:00            4r24      31  \n",
      "4   u4r24         10  0 days 00:10:00            4r24      31  \n"
     ]
    }
   ],
   "source": [
    "downloads_path = os.path.expanduser('~/Downloads/trajec-data')\n",
    "combined_df_list = []\n",
    "sub_track_offset = 0  # Start offset\n",
    "\n",
    "# Files from 31 down to 26\n",
    "for i in range(31, 25, -1):\n",
    "    file_path = 'ais/raw_data'\n",
    "    filename = f'ais_preprocessed_{i}.csv'\n",
    "\n",
    "    # Read the CSV\n",
    "    df = pd.read_csv(file_path)\n",
    "\n",
    "    # Offset the sub_track values\n",
    "    df['sub_track'] += sub_track_offset\n",
    "\n",
    "    # Update the offset for the next df\n",
    "    sub_track_offset = df['sub_track'].max() + 1\n",
    "\n",
    "    # Add a column indicating the source file number (optional)\n",
    "    df['source'] = i\n",
    "\n",
    "    # Append to the list\n",
    "    combined_df_list.append(df)\n",
    "\n",
    "# Concatenate all DataFrames\n",
    "combined_ais = pd.concat(combined_df_list, ignore_index=True)\n",
    "\n",
    "# Show or save the result\n",
    "print(combined_ais.head())\n"
   ]
  },
  {
   "cell_type": "code",
   "execution_count": null,
   "metadata": {},
   "outputs": [],
   "source": [
    "# Removes tracks with less than 64 data points (10 hours and 40 minutes of trajectory time)\n",
    "# Block size is 48 so we can only have tracks with > 48 data points\n",
    "combined_ais = combined_ais.groupby('sub_track').filter(lambda x: len(x) >= 64)\n",
    "combined_ais.to_csv(f'ais_preprocessed.csv', index=False)"
   ]
  }
 ],
 "metadata": {
  "kernelspec": {
   "display_name": "base",
   "language": "python",
   "name": "python3"
  },
  "language_info": {
   "codemirror_mode": {
    "name": "ipython",
    "version": 3
   },
   "file_extension": ".py",
   "mimetype": "text/x-python",
   "name": "python",
   "nbconvert_exporter": "python",
   "pygments_lexer": "ipython3",
   "version": "3.12.7"
  }
 },
 "nbformat": 4,
 "nbformat_minor": 2
}
